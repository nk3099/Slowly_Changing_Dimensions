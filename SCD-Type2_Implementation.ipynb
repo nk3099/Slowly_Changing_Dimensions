{
 "cells": [
  {
   "cell_type": "markdown",
   "metadata": {
    "application/vnd.databricks.v1+cell": {
     "cellMetadata": {},
     "inputWidgets": {},
     "nuid": "8e60ac70-18a8-4ffd-beac-33a4e2930ace",
     "showTitle": false,
     "title": ""
    }
   },
   "source": [
    "#SCD-Type2_Implementation"
   ]
  },
  {
   "cell_type": "code",
   "execution_count": 0,
   "metadata": {
    "application/vnd.databricks.v1+cell": {
     "cellMetadata": {
      "byteLimit": 2048000,
      "rowLimit": 10000
     },
     "inputWidgets": {},
     "nuid": "c8353eb9-9e5b-494a-9978-b8d464a1aad3",
     "showTitle": false,
     "title": ""
    }
   },
   "outputs": [],
   "source": [
    "from pyspark.sql import SparkSession\n",
    "spark = SparkSession.builder.getOrCreate()"
   ]
  },
  {
   "cell_type": "code",
   "execution_count": 0,
   "metadata": {
    "application/vnd.databricks.v1+cell": {
     "cellMetadata": {
      "byteLimit": 2048000,
      "rowLimit": 10000
     },
     "inputWidgets": {},
     "nuid": "9ca91fa9-8fb8-483c-a1e4-25458c8dab77",
     "showTitle": false,
     "title": ""
    }
   },
   "outputs": [],
   "source": [
    "from pyspark.sql.functions import * \n",
    "from pyspark.sql.window import Window"
   ]
  },
  {
   "cell_type": "code",
   "execution_count": 0,
   "metadata": {
    "application/vnd.databricks.v1+cell": {
     "cellMetadata": {
      "byteLimit": 2048000,
      "rowLimit": 10000
     },
     "inputWidgets": {},
     "nuid": "ada6f643-53ea-450c-8a50-803993525d9c",
     "showTitle": false,
     "title": ""
    }
   },
   "outputs": [
    {
     "output_type": "stream",
     "name": "stdout",
     "output_type": "stream",
     "text": [
      "Out[4]: True"
     ]
    }
   ],
   "source": [
    "dbutils.fs.mkdirs(\"/FileStore/SCD\")"
   ]
  },
  {
   "cell_type": "code",
   "execution_count": 0,
   "metadata": {
    "application/vnd.databricks.v1+cell": {
     "cellMetadata": {
      "byteLimit": 2048000,
      "rowLimit": 10000
     },
     "inputWidgets": {},
     "nuid": "bbed9c8d-a6c5-4114-9b3e-91940754501f",
     "showTitle": false,
     "title": ""
    }
   },
   "outputs": [
    {
     "output_type": "stream",
     "name": "stdout",
     "output_type": "stream",
     "text": [
      "Out[5]: True"
     ]
    }
   ],
   "source": [
    "dbutils.fs.mkdirs(\"/FileStore/SCD/source/\")\n",
    "dbutils.fs.mkdirs(\"/FileStore/SCD/target/\")\n"
   ]
  },
  {
   "cell_type": "code",
   "execution_count": 0,
   "metadata": {
    "application/vnd.databricks.v1+cell": {
     "cellMetadata": {
      "byteLimit": 2048000,
      "rowLimit": 10000
     },
     "inputWidgets": {},
     "nuid": "77a06ba8-cb1e-4b89-a844-52b23dc5d94e",
     "showTitle": false,
     "title": ""
    }
   },
   "outputs": [],
   "source": [
    "DATE_FORMAT = \"yyyy-MM-dd\"\n",
    "future_date = \"9999-12-31\"  #some future date\n",
    "source_url = \"/FileStore/SCD/source/customers1.csv\"\n",
    "destination_url = \"/FileStore/SCD/target\"\n",
    "primary_key = [\"customerid\"]\n",
    "slowly_changing_cols = [ \"email\",\"phone\",\"address\", \"city\", \"state\", \"zipcode\"]\n",
    "implementation_cols = [\"effective_date\",\"end_date\",\"active_flag\"]\n",
    "\n",
    "\n",
    "#end_date -> might be NULL, to show as current record (or) -> future date.\n",
    "#active_flag -> true: current_record and -> false: not current_record"
   ]
  },
  {
   "cell_type": "code",
   "execution_count": 0,
   "metadata": {
    "application/vnd.databricks.v1+cell": {
     "cellMetadata": {
      "byteLimit": 2048000,
      "rowLimit": 10000
     },
     "inputWidgets": {},
     "nuid": "e0a9a9a2-03dd-4113-8bb2-c13c1a824bae",
     "showTitle": false,
     "title": ""
    }
   },
   "outputs": [],
   "source": [
    "customers_source_schema = \"customerid long,firstname string, lastname string, email string, phone string, address string, city string, state string, zipcode long\""
   ]
  },
  {
   "cell_type": "code",
   "execution_count": 0,
   "metadata": {
    "application/vnd.databricks.v1+cell": {
     "cellMetadata": {
      "byteLimit": 2048000,
      "rowLimit": 10000
     },
     "inputWidgets": {},
     "nuid": "144ad255-c850-4581-8068-1af5bdebcfb2",
     "showTitle": false,
     "title": ""
    }
   },
   "outputs": [
    {
     "output_type": "stream",
     "name": "stdout",
     "output_type": "stream",
     "text": [
      "Out[11]: '\\n1.customer_skey -> for surrogate key\\n2.effective_date\\n3.end_date\\n4.active_flag\\n'"
     ]
    }
   ],
   "source": [
    "customers_target_schema = \"customerid long,firstname string, lastname string, email string, phone string, address string, city string, state string, zipcode long, customer_skey long, effective_date date, end_date date, active_flag boolean\"\n",
    "\n",
    "#there are 4 more columns added:\n",
    "\"\"\"\n",
    "1.customer_skey -> for surrogate key\n",
    "2.effective_date\n",
    "3.end_date\n",
    "4.active_flag\n",
    "\"\"\""
   ]
  },
  {
   "cell_type": "code",
   "execution_count": 0,
   "metadata": {
    "application/vnd.databricks.v1+cell": {
     "cellMetadata": {
      "byteLimit": 2048000,
      "rowLimit": 10000
     },
     "inputWidgets": {},
     "nuid": "6bb174dc-f6d5-40ee-a754-5048071abead",
     "showTitle": false,
     "title": ""
    }
   },
   "outputs": [],
   "source": [
    "customers_source_df = spark.read \\\n",
    ".format(\"csv\") \\\n",
    ".option(\"header\",True) \\\n",
    ".schema(customers_source_schema) \\\n",
    ".load(source_url)"
   ]
  },
  {
   "cell_type": "markdown",
   "metadata": {
    "application/vnd.databricks.v1+cell": {
     "cellMetadata": {
      "byteLimit": 2048000,
      "rowLimit": 10000
     },
     "inputWidgets": {},
     "nuid": "f6122536-23d1-4136-a770-a80ce46e3987",
     "showTitle": false,
     "title": ""
    }
   },
   "source": [
    "###customers1.csv\n",
    "#####these records coming from relational database"
   ]
  },
  {
   "cell_type": "code",
   "execution_count": 0,
   "metadata": {
    "application/vnd.databricks.v1+cell": {
     "cellMetadata": {
      "byteLimit": 2048000,
      "rowLimit": 10000
     },
     "inputWidgets": {},
     "nuid": "7fa92a62-17c0-4f1e-a2aa-130afe47af54",
     "showTitle": false,
     "title": ""
    }
   },
   "outputs": [
    {
     "output_type": "stream",
     "name": "stdout",
     "output_type": "stream",
     "text": [
      "+----------+-----------+--------+---------------------------+--------+-------------+---------+-----+-------+\n|customerid|firstname  |lastname|email                      |phone   |address      |city     |state|zipcode|\n+----------+-----------+--------+---------------------------+--------+-------------+---------+-----+-------+\n|1         |John       |Doe     |johndoe@email.com          |555-1234|123 Main St  |Anytown  |CA   |12345  |\n|2         |Jane       |Smith   |janesmith@email.com        |555-5678|456 Oak Ave  |Sometown |NY   |67890  |\n|3         |Robert     |Johnson |robertjohnson@email.com    |555-8765|789 Pine Ln  |Othercity|TX   |34567  |\n|4         |Alice      |Williams|alicewilliams@email.com    |555-4321|234 Cedar Dr |Yourtown |FL   |89012  |\n|5         |Michael    |Brown   |michaelbrown@email.com     |555-9876|567 Elm Blvd |Theirtown|IL   |45678  |\n|6         |Emily      |Miller  |emilymiller@email.com      |555-6543|890-Birch Rd |Newcity  |WA   |23456  |\n|7         |David      |Jones   |davidjones@email.com       |555-2345|678 Maple Ave|Yourcity |GA   |78901  |\n|8         |Sarah      |Anderson|sarahanderson@email.com    |555-5432|901 Pine St  |Heretown |OH   |56789  |\n|9         |Christopher|Taylor  |christophertaylor@email.com|555-8765|234 Oak-Ln   |Thistown |PA   |12345  |\n|10        |Olivia     |Clark   |oliviaclark@email.com      |555-3456|567-Cedar-Ave|Thatcity |TN   |67890  |\n+----------+-----------+--------+---------------------------+--------+-------------+---------+-----+-------+\n\n"
     ]
    }
   ],
   "source": [
    "customers_source_df.show(truncate=False)"
   ]
  },
  {
   "cell_type": "markdown",
   "metadata": {
    "application/vnd.databricks.v1+cell": {
     "cellMetadata": {
      "byteLimit": 2048000,
      "rowLimit": 10000
     },
     "inputWidgets": {},
     "nuid": "94b74f18-8ae3-41e2-87ef-5177bd680f17",
     "showTitle": false,
     "title": ""
    }
   },
   "source": [
    "-- to move this data coming from relational-databse(source) to datawarehouse(target), \\\n",
    "-- we need to create Customer Dimension for which we need to have surrogate key \\\n",
    "-- here taking row_number() as surrogat key, which would be acting as primary key also."
   ]
  },
  {
   "cell_type": "code",
   "execution_count": 0,
   "metadata": {
    "application/vnd.databricks.v1+cell": {
     "cellMetadata": {
      "byteLimit": 2048000,
      "rowLimit": 10000
     },
     "inputWidgets": {},
     "nuid": "391edb45-fb1d-40fd-8045-7c8ceef34252",
     "showTitle": false,
     "title": ""
    }
   },
   "outputs": [],
   "source": [
    "window_def = Window.orderBy(\"customerid\")\n"
   ]
  },
  {
   "cell_type": "code",
   "execution_count": 0,
   "metadata": {
    "application/vnd.databricks.v1+cell": {
     "cellMetadata": {
      "byteLimit": 2048000,
      "rowLimit": 10000
     },
     "inputWidgets": {},
     "nuid": "76d0cc49-9d8e-4d19-8152-4197bec407b7",
     "showTitle": false,
     "title": ""
    }
   },
   "outputs": [],
   "source": [
    "enhanced_customers_source_df = spark.read \\\n",
    ".format(\"csv\") \\\n",
    ".option(\"header\",True) \\\n",
    ".schema(customers_source_schema) \\\n",
    ".load(source_url) \\\n",
    ".withColumn(\"customer_skey\",row_number().over(window_def)) \\\n",
    ".withColumn(\"effective_date\",date_format(current_date(), DATE_FORMAT)) \\\n",
    ".withColumn(\"end_date\",date_format(lit(future_date), DATE_FORMAT)) \\\n",
    ".withColumn(\"active_flag\", lit(True))\n",
    "\n",
    "#lit(): to create literal values for DataFrame operations.\n",
    "#It helps in adding constant values as new columns or in expressions within transformations."
   ]
  },
  {
   "cell_type": "code",
   "execution_count": 0,
   "metadata": {
    "application/vnd.databricks.v1+cell": {
     "cellMetadata": {
      "byteLimit": 2048000,
      "rowLimit": 10000
     },
     "inputWidgets": {},
     "nuid": "d4d8f15e-0aba-4a82-a7d0-369fe94e5522",
     "showTitle": false,
     "title": ""
    }
   },
   "outputs": [
    {
     "output_type": "stream",
     "name": "stdout",
     "output_type": "stream",
     "text": [
      "+----------+-----------+--------+---------------------------+--------+-------------+---------+-----+-------+-------------+--------------+----------+-----------+\n|customerid|firstname  |lastname|email                      |phone   |address      |city     |state|zipcode|customer_skey|effective_date|end_date  |active_flag|\n+----------+-----------+--------+---------------------------+--------+-------------+---------+-----+-------+-------------+--------------+----------+-----------+\n|1         |John       |Doe     |johndoe@email.com          |555-1234|123 Main St  |Anytown  |CA   |12345  |1            |2024-10-21    |9999-12-31|true       |\n|2         |Jane       |Smith   |janesmith@email.com        |555-5678|456 Oak Ave  |Sometown |NY   |67890  |2            |2024-10-21    |9999-12-31|true       |\n|3         |Robert     |Johnson |robertjohnson@email.com    |555-8765|789 Pine Ln  |Othercity|TX   |34567  |3            |2024-10-21    |9999-12-31|true       |\n|4         |Alice      |Williams|alicewilliams@email.com    |555-4321|234 Cedar Dr |Yourtown |FL   |89012  |4            |2024-10-21    |9999-12-31|true       |\n|5         |Michael    |Brown   |michaelbrown@email.com     |555-9876|567 Elm Blvd |Theirtown|IL   |45678  |5            |2024-10-21    |9999-12-31|true       |\n|6         |Emily      |Miller  |emilymiller@email.com      |555-6543|890-Birch Rd |Newcity  |WA   |23456  |6            |2024-10-21    |9999-12-31|true       |\n|7         |David      |Jones   |davidjones@email.com       |555-2345|678 Maple Ave|Yourcity |GA   |78901  |7            |2024-10-21    |9999-12-31|true       |\n|8         |Sarah      |Anderson|sarahanderson@email.com    |555-5432|901 Pine St  |Heretown |OH   |56789  |8            |2024-10-21    |9999-12-31|true       |\n|9         |Christopher|Taylor  |christophertaylor@email.com|555-8765|234 Oak-Ln   |Thistown |PA   |12345  |9            |2024-10-21    |9999-12-31|true       |\n|10        |Olivia     |Clark   |oliviaclark@email.com      |555-3456|567-Cedar-Ave|Thatcity |TN   |67890  |10           |2024-10-21    |9999-12-31|true       |\n+----------+-----------+--------+---------------------------+--------+-------------+---------+-----+-------+-------------+--------------+----------+-----------+\n\n"
     ]
    }
   ],
   "source": [
    "enhanced_customers_source_df.show(truncate=False)"
   ]
  },
  {
   "cell_type": "code",
   "execution_count": 0,
   "metadata": {
    "application/vnd.databricks.v1+cell": {
     "cellMetadata": {
      "byteLimit": 2048000,
      "rowLimit": 10000
     },
     "inputWidgets": {},
     "nuid": "e66d0804-e996-46d5-a36f-258171456aa1",
     "showTitle": false,
     "title": ""
    }
   },
   "outputs": [],
   "source": [
    "#writing enhanced_customers_df to target location\n",
    "\n",
    "enhanced_customers_source_df.write.mode('overwrite') \\\n",
    ".option(\"header\",True) \\\n",
    ".option(\"delimiter\",\",\") \\\n",
    ".csv(destination_url)"
   ]
  },
  {
   "cell_type": "code",
   "execution_count": 0,
   "metadata": {
    "application/vnd.databricks.v1+cell": {
     "cellMetadata": {
      "byteLimit": 2048000,
      "rowLimit": 10000
     },
     "inputWidgets": {},
     "nuid": "930cec27-f70e-4dae-982f-a57d83c79d97",
     "showTitle": false,
     "title": ""
    }
   },
   "outputs": [],
   "source": [
    "#reading target \n",
    "\n",
    "customers_target_df = spark.read \\\n",
    ".format(\"csv\") \\\n",
    ".option(\"header\",True) \\\n",
    ".schema(customers_target_schema) \\\n",
    ".load(destination_url)"
   ]
  },
  {
   "cell_type": "code",
   "execution_count": 0,
   "metadata": {
    "application/vnd.databricks.v1+cell": {
     "cellMetadata": {
      "byteLimit": 2048000,
      "rowLimit": 10000
     },
     "inputWidgets": {},
     "nuid": "e8529089-0de9-47bb-8645-336138dd760f",
     "showTitle": false,
     "title": ""
    }
   },
   "outputs": [
    {
     "output_type": "stream",
     "name": "stdout",
     "output_type": "stream",
     "text": [
      "+----------+-----------+--------+--------------------+--------+-------------+---------+-----+-------+-------------+--------------+----------+-----------+\n|customerid|  firstname|lastname|               email|   phone|      address|     city|state|zipcode|customer_skey|effective_date|  end_date|active_flag|\n+----------+-----------+--------+--------------------+--------+-------------+---------+-----+-------+-------------+--------------+----------+-----------+\n|         1|       John|     Doe|   johndoe@email.com|555-1234|  123 Main St|  Anytown|   CA|  12345|            1|    2024-10-21|9999-12-31|       true|\n|         2|       Jane|   Smith| janesmith@email.com|555-5678|  456 Oak Ave| Sometown|   NY|  67890|            2|    2024-10-21|9999-12-31|       true|\n|         3|     Robert| Johnson|robertjohnson@ema...|555-8765|  789 Pine Ln|Othercity|   TX|  34567|            3|    2024-10-21|9999-12-31|       true|\n|         4|      Alice|Williams|alicewilliams@ema...|555-4321| 234 Cedar Dr| Yourtown|   FL|  89012|            4|    2024-10-21|9999-12-31|       true|\n|         5|    Michael|   Brown|michaelbrown@emai...|555-9876| 567 Elm Blvd|Theirtown|   IL|  45678|            5|    2024-10-21|9999-12-31|       true|\n|         6|      Emily|  Miller|emilymiller@email...|555-6543| 890-Birch Rd|  Newcity|   WA|  23456|            6|    2024-10-21|9999-12-31|       true|\n|         7|      David|   Jones|davidjones@email.com|555-2345|678 Maple Ave| Yourcity|   GA|  78901|            7|    2024-10-21|9999-12-31|       true|\n|         8|      Sarah|Anderson|sarahanderson@ema...|555-5432|  901 Pine St| Heretown|   OH|  56789|            8|    2024-10-21|9999-12-31|       true|\n|         9|Christopher|  Taylor|christophertaylor...|555-8765|   234 Oak-Ln| Thistown|   PA|  12345|            9|    2024-10-21|9999-12-31|       true|\n|        10|     Olivia|   Clark|oliviaclark@email...|555-3456|567-Cedar-Ave| Thatcity|   TN|  67890|           10|    2024-10-21|9999-12-31|       true|\n+----------+-----------+--------+--------------------+--------+-------------+---------+-----+-------+-------------+--------------+----------+-----------+\n\n"
     ]
    }
   ],
   "source": [
    "customers_target_df.show()"
   ]
  },
  {
   "cell_type": "code",
   "execution_count": 0,
   "metadata": {
    "application/vnd.databricks.v1+cell": {
     "cellMetadata": {
      "byteLimit": 2048000,
      "rowLimit": 10000
     },
     "inputWidgets": {},
     "nuid": "21f92365-7904-440a-8d7c-a74fc86feb34",
     "showTitle": false,
     "title": ""
    }
   },
   "outputs": [
    {
     "output_type": "stream",
     "name": "stdout",
     "output_type": "stream",
     "text": [
      "+----------+-----------+--------+--------------------+--------+-------------+---------+-----+-------+\n|customerid|  firstname|lastname|               email|   phone|      address|     city|state|zipcode|\n+----------+-----------+--------+--------------------+--------+-------------+---------+-----+-------+\n|         1|       John|     Doe|   johndoe@email.com|555-1234|  123 Main St|  Anytown|   CA|  12345|\n|         2|       Jane|   Smith| janesmith@email.com|555-5678|  456 Oak Ave| Sometown|   NY|  67890|\n|         3|     Robert| Johnson|robertjohnson@ema...|555-8765|  789 Pine Ln|Othercity|   TX|  34567|\n|         4|      Alice|Williams|alicewilliams@ema...|555-4321| 234 Cedar Dr| Yourtown|   FL|  89012|\n|         5|    Michael|   Brown|michaelbrown@emai...|555-9876| 567 Elm Blvd|Theirtown|   IL|  45678|\n|         6|      Emily|  Miller|emilymiller@email...|555-6543| 890-Birch Rd|  Newcity|   WA|  23456|\n|         7|      David|   Jones|davidjones@email.com|555-2345|678 Maple Ave| Yourcity|   GA|  78901|\n|         8|      Sarah|Anderson|sarahanderson@ema...|555-5432|  901 Pine St| Heretown|   OH|  56789|\n|         9|Christopher|  Taylor|christophertaylor...|555-8765|   234 Oak-Ln| Thistown|   PA|  12345|\n|        10|     Olivia|   Clark|oliviaclark@email...|555-3456|567-Cedar-Ave| Thatcity|   TN|  67890|\n+----------+-----------+--------+--------------------+--------+-------------+---------+-----+-------+\n\n"
     ]
    }
   ],
   "source": [
    "customers_source_df.show()"
   ]
  },
  {
   "cell_type": "code",
   "execution_count": 0,
   "metadata": {
    "application/vnd.databricks.v1+cell": {
     "cellMetadata": {
      "byteLimit": 2048000,
      "rowLimit": 10000
     },
     "inputWidgets": {},
     "nuid": "cf527ec4-605c-49e5-b707-fb503fa512b9",
     "showTitle": false,
     "title": ""
    }
   },
   "outputs": [],
   "source": [
    "#every time we insert new records, we would have to take maximum of surrogate key and add to it.\n",
    "\n",
    "max_sk = customers_target_df.agg({\"customer_skey\": \"max\"}).collect()[0][0]"
   ]
  },
  {
   "cell_type": "code",
   "execution_count": 0,
   "metadata": {
    "application/vnd.databricks.v1+cell": {
     "cellMetadata": {
      "byteLimit": 2048000,
      "rowLimit": 10000
     },
     "inputWidgets": {},
     "nuid": "8c4aee20-3d6f-424a-9804-8815479f869d",
     "showTitle": false,
     "title": ""
    }
   },
   "outputs": [
    {
     "output_type": "stream",
     "name": "stdout",
     "output_type": "stream",
     "text": [
      "10\n"
     ]
    }
   ],
   "source": [
    "print(max_sk)"
   ]
  },
  {
   "cell_type": "markdown",
   "metadata": {
    "application/vnd.databricks.v1+cell": {
     "cellMetadata": {
      "byteLimit": 2048000,
      "rowLimit": 10000
     },
     "inputWidgets": {},
     "nuid": "4d0e7cc5-fef5-4139-8707-10d320d60290",
     "showTitle": false,
     "title": ""
    }
   },
   "source": [
    "###customers2.csv\n",
    "####the data getting changed over the time as below:\n",
    "1. In 1st row, the Email address updated from email.com to gmail.com\n",
    "2. In 2nd row, we have changed Phone number from \"555-5678\" to \"555-5679\"\n",
    "3. In 3rd row, we have updated  city,state,zipcode\n",
    "4. Inserted two new records ie. row 11 and row12\n",
    "5. Deleted 10th record, ie. row 10\n",
    "\n",
    "-updates(row 1,2,3) \\\n",
    "-insert(row 11,12) \\\n",
    "-delete(row 10) \\\n",
    "-unchanged(all other records)\n"
   ]
  },
  {
   "cell_type": "code",
   "execution_count": 0,
   "metadata": {
    "application/vnd.databricks.v1+cell": {
     "cellMetadata": {
      "byteLimit": 2048000,
      "rowLimit": 10000
     },
     "inputWidgets": {},
     "nuid": "3cb92d2c-11f1-4597-a629-b2f7a9d3e730",
     "showTitle": false,
     "title": ""
    }
   },
   "outputs": [
    {
     "output_type": "stream",
     "name": "stdout",
     "output_type": "stream",
     "text": [
      "Out[24]: '\\nactive_flag -> true: means this is a current record, which is going on \\n=> active_customers_target_df\\n\\nactive_flag -> false: means this is a past record \\n=> inactive_customers_target_df\\n\\n'"
     ]
    }
   ],
   "source": [
    "#from target(DWH):had 10 records with 4 extra columns\n",
    "# Now, we are dividing into 2 dataframes based on active_flag as:\n",
    "\"\"\"\n",
    "active_flag -> true: means this is a current record, which is going on \n",
    "=> active_customers_target_df\n",
    "\n",
    "active_flag -> false: means this is a past record \n",
    "=> inactive_customers_target_df\n",
    "\n",
    "\"\"\""
   ]
  },
  {
   "cell_type": "code",
   "execution_count": 0,
   "metadata": {
    "application/vnd.databricks.v1+cell": {
     "cellMetadata": {
      "byteLimit": 2048000,
      "rowLimit": 10000
     },
     "inputWidgets": {},
     "nuid": "d0470a51-5345-405a-bc2c-7172b95d2961",
     "showTitle": false,
     "title": ""
    }
   },
   "outputs": [],
   "source": [
    "active_customers_target_df = customers_target_df.where(col(\"active_flag\")==True)"
   ]
  },
  {
   "cell_type": "code",
   "execution_count": 0,
   "metadata": {
    "application/vnd.databricks.v1+cell": {
     "cellMetadata": {
      "byteLimit": 2048000,
      "rowLimit": 10000
     },
     "inputWidgets": {},
     "nuid": "cf64d36c-3f86-4819-989b-d572d7c84fbf",
     "showTitle": false,
     "title": ""
    }
   },
   "outputs": [],
   "source": [
    "inactive_customers_target_df = customers_target_df.where(col(\"active_flag\")==False)"
   ]
  },
  {
   "cell_type": "code",
   "execution_count": 0,
   "metadata": {
    "application/vnd.databricks.v1+cell": {
     "cellMetadata": {
      "byteLimit": 2048000,
      "rowLimit": 10000
     },
     "inputWidgets": {},
     "nuid": "0baa825f-db42-49de-bc7e-b8f14c28098e",
     "showTitle": false,
     "title": ""
    }
   },
   "outputs": [
    {
     "output_type": "stream",
     "name": "stdout",
     "output_type": "stream",
     "text": [
      "+----------+-----------+--------+--------------------+--------+-------------+---------+-----+-------+-------------+--------------+----------+-----------+\n|customerid|  firstname|lastname|               email|   phone|      address|     city|state|zipcode|customer_skey|effective_date|  end_date|active_flag|\n+----------+-----------+--------+--------------------+--------+-------------+---------+-----+-------+-------------+--------------+----------+-----------+\n|         1|       John|     Doe|   johndoe@email.com|555-1234|  123 Main St|  Anytown|   CA|  12345|            1|    2024-10-21|9999-12-31|       true|\n|         2|       Jane|   Smith| janesmith@email.com|555-5678|  456 Oak Ave| Sometown|   NY|  67890|            2|    2024-10-21|9999-12-31|       true|\n|         3|     Robert| Johnson|robertjohnson@ema...|555-8765|  789 Pine Ln|Othercity|   TX|  34567|            3|    2024-10-21|9999-12-31|       true|\n|         4|      Alice|Williams|alicewilliams@ema...|555-4321| 234 Cedar Dr| Yourtown|   FL|  89012|            4|    2024-10-21|9999-12-31|       true|\n|         5|    Michael|   Brown|michaelbrown@emai...|555-9876| 567 Elm Blvd|Theirtown|   IL|  45678|            5|    2024-10-21|9999-12-31|       true|\n|         6|      Emily|  Miller|emilymiller@email...|555-6543| 890-Birch Rd|  Newcity|   WA|  23456|            6|    2024-10-21|9999-12-31|       true|\n|         7|      David|   Jones|davidjones@email.com|555-2345|678 Maple Ave| Yourcity|   GA|  78901|            7|    2024-10-21|9999-12-31|       true|\n|         8|      Sarah|Anderson|sarahanderson@ema...|555-5432|  901 Pine St| Heretown|   OH|  56789|            8|    2024-10-21|9999-12-31|       true|\n|         9|Christopher|  Taylor|christophertaylor...|555-8765|   234 Oak-Ln| Thistown|   PA|  12345|            9|    2024-10-21|9999-12-31|       true|\n|        10|     Olivia|   Clark|oliviaclark@email...|555-3456|567-Cedar-Ave| Thatcity|   TN|  67890|           10|    2024-10-21|9999-12-31|       true|\n+----------+-----------+--------+--------------------+--------+-------------+---------+-----+-------+-------------+--------------+----------+-----------+\n\n"
     ]
    }
   ],
   "source": [
    "#initially now, all 10 records are active in the target - as we got those records and we uploaded them\n",
    "#therefore, no results for inactive_customers_target_df.show() for now.\n",
    "\n",
    "active_customers_target_df.show()"
   ]
  },
  {
   "cell_type": "code",
   "execution_count": 0,
   "metadata": {
    "application/vnd.databricks.v1+cell": {
     "cellMetadata": {
      "byteLimit": 2048000,
      "rowLimit": 10000
     },
     "inputWidgets": {},
     "nuid": "50a50d14-6359-443b-bd2a-8b7fadc7b709",
     "showTitle": false,
     "title": ""
    }
   },
   "outputs": [
    {
     "output_type": "stream",
     "name": "stdout",
     "output_type": "stream",
     "text": [
      "+----------+---------+--------+-----+-----+-------+----+-----+-------+-------------+--------------+--------+-----------+\n|customerid|firstname|lastname|email|phone|address|city|state|zipcode|customer_skey|effective_date|end_date|active_flag|\n+----------+---------+--------+-----+-----+-------+----+-----+-------+-------------+--------------+--------+-----------+\n+----------+---------+--------+-----+-----+-------+----+-----+-------+-------------+--------------+--------+-----------+\n\n"
     ]
    }
   ],
   "source": [
    "inactive_customers_target_df.show()"
   ]
  },
  {
   "cell_type": "markdown",
   "metadata": {
    "application/vnd.databricks.v1+cell": {
     "cellMetadata": {
      "byteLimit": 2048000,
      "rowLimit": 10000
     },
     "inputWidgets": {},
     "nuid": "d0715af0-f823-4fa8-92d1-11321f1c6dac",
     "showTitle": false,
     "title": ""
    }
   },
   "source": [
    "####BUT, now new records (customers2.csv) come as file has changed in database.\n",
    "\n",
    "so, now we need to get these changes done in target (for any subsequent runs, instead of writing as \"overwrite\"): \\\n",
    "-updates(row 1,2,3) \\\n",
    "-insert(row 11,12) \\\n",
    "-delete(row 10) \\\n",
    "-unchanged(all other records)"
   ]
  },
  {
   "cell_type": "code",
   "execution_count": 0,
   "metadata": {
    "application/vnd.databricks.v1+cell": {
     "cellMetadata": {
      "byteLimit": 2048000,
      "rowLimit": 10000
     },
     "inputWidgets": {},
     "nuid": "94648feb-5142-41d5-ad3a-70f6c2d915c3",
     "showTitle": false,
     "title": ""
    }
   },
   "outputs": [
    {
     "output_type": "stream",
     "name": "stdout",
     "output_type": "stream",
     "text": [
      "+----------+-----------+--------+--------------------+--------+-------------+----------+-----+-------+\n|customerid|  firstname|lastname|               email|   phone|      address|      city|state|zipcode|\n+----------+-----------+--------+--------------------+--------+-------------+----------+-----+-------+\n|         1|       John|     Doe|   johndoe@gmail.com|555-1234|  123 Main St|   Anytown|   CA|  12345|\n|         2|       Jane|   Smith| janesmith@email.com|555-5679|  456 Oak Ave|  Sometown|   NY|  67890|\n|         3|     Robert| Johnson|robertjohnson@ema...|555-8765|   123 Elm Ln|Harborcity|   FL|  87654|\n|         4|      Alice|Williams|alicewilliams@ema...|555-4321| 234 Cedar Dr|  Yourtown|   FL|  89012|\n|         5|    Michael|   Brown|michaelbrown@emai...|555-9876| 567 Elm Blvd| Theirtown|   IL|  45678|\n|         6|      Emily|  Miller|emilymiller@email...|555-6543| 890 Birch Rd|   Newcity|   WA|  23456|\n|         7|      David|   Jones|davidjones@email.com|555-2345|678 Maple Ave|  Yourcity|   GA|  78901|\n|         8|      Sarah|Anderson|sarahanderson@ema...|555-5432|  901 Pine St|  Heretown|   OH|  56789|\n|         9|Christopher|  Taylor|christophertaylor...|555-8765|   234 Oak-Ln|  Thistown|   PA|  12345|\n|        11|      Grace|  Turner|graceturner@email...|555-1122|   567 Oak St|  Cityview|   CA|  98765|\n|        12|     Connor|   Evans|connorevans@email...|555-2233| 890 Pine Ave|Townsville|   TX|  54321|\n+----------+-----------+--------+--------------------+--------+-------------+----------+-----+-------+\n\n"
     ]
    }
   ],
   "source": [
    "source_url = \"/FileStore/SCD/source/customers2.csv\"\n",
    "customers_source_df = spark.read \\\n",
    ".format(\"csv\") \\\n",
    ".option(\"header\",True) \\\n",
    ".schema(customers_source_schema) \\\n",
    ".load(source_url)\n",
    "\n",
    "customers_source_df.show()"
   ]
  },
  {
   "cell_type": "markdown",
   "metadata": {
    "application/vnd.databricks.v1+cell": {
     "cellMetadata": {
      "byteLimit": 2048000,
      "rowLimit": 10000
     },
     "inputWidgets": {},
     "nuid": "846c5fbf-1643-48a4-b9ef-668210069b7a",
     "showTitle": false,
     "title": ""
    }
   },
   "source": [
    "####join active_customers_df (target dwh only active) and customers_source_df (complete source dataframe)\n",
    "\n",
    "as whichever are deleted records, we mark as inactive - which we shouldn't consider. therefore, consider only about active records as these are the ones which has to be upodated or deleted.\n",
    "\n",
    "####Observations:\n",
    "1.If NULL's in target and not NULL in source -> insert should happen in target \\\n",
    "2.If not NULL in target and NULL in source -> record to be deleted in target \\\n",
    "3.For update records -> we have to match the columns (6 keys,ie. slowly_changing_cols) to check if there is any change\n",
    "=> we can take a hash of the 6 keys (we get single big string) to identify anything changed or not.\n",
    "=> If the hash key is different : we have to update\n",
    "=> If the hash key in both source and target is same : then no change"
   ]
  },
  {
   "cell_type": "code",
   "execution_count": 0,
   "metadata": {
    "application/vnd.databricks.v1+cell": {
     "cellMetadata": {
      "byteLimit": 2048000,
      "rowLimit": 10000
     },
     "inputWidgets": {},
     "nuid": "f104547b-3d5c-48ab-b6ae-457ab7950932",
     "showTitle": false,
     "title": ""
    }
   },
   "outputs": [
    {
     "output_type": "stream",
     "name": "stdout",
     "output_type": "stream",
     "text": [
      "+----------+-----------+--------+--------------------+--------+-------------+---------+-----+-------+-------------+--------------+----------+-----------+-----------+--------+--------------------+--------+-------------+----------+-----+-------+\n|customerid|  firstname|lastname|               email|   phone|      address|     city|state|zipcode|customer_skey|effective_date|  end_date|active_flag|  firstname|lastname|               email|   phone|      address|      city|state|zipcode|\n+----------+-----------+--------+--------------------+--------+-------------+---------+-----+-------+-------------+--------------+----------+-----------+-----------+--------+--------------------+--------+-------------+----------+-----+-------+\n|         1|       John|     Doe|   johndoe@email.com|555-1234|  123 Main St|  Anytown|   CA|  12345|            1|    2024-10-21|9999-12-31|       true|       John|     Doe|   johndoe@gmail.com|555-1234|  123 Main St|   Anytown|   CA|  12345|\n|         2|       Jane|   Smith| janesmith@email.com|555-5678|  456 Oak Ave| Sometown|   NY|  67890|            2|    2024-10-21|9999-12-31|       true|       Jane|   Smith| janesmith@email.com|555-5679|  456 Oak Ave|  Sometown|   NY|  67890|\n|         3|     Robert| Johnson|robertjohnson@ema...|555-8765|  789 Pine Ln|Othercity|   TX|  34567|            3|    2024-10-21|9999-12-31|       true|     Robert| Johnson|robertjohnson@ema...|555-8765|   123 Elm Ln|Harborcity|   FL|  87654|\n|         4|      Alice|Williams|alicewilliams@ema...|555-4321| 234 Cedar Dr| Yourtown|   FL|  89012|            4|    2024-10-21|9999-12-31|       true|      Alice|Williams|alicewilliams@ema...|555-4321| 234 Cedar Dr|  Yourtown|   FL|  89012|\n|         5|    Michael|   Brown|michaelbrown@emai...|555-9876| 567 Elm Blvd|Theirtown|   IL|  45678|            5|    2024-10-21|9999-12-31|       true|    Michael|   Brown|michaelbrown@emai...|555-9876| 567 Elm Blvd| Theirtown|   IL|  45678|\n|         6|      Emily|  Miller|emilymiller@email...|555-6543| 890-Birch Rd|  Newcity|   WA|  23456|            6|    2024-10-21|9999-12-31|       true|      Emily|  Miller|emilymiller@email...|555-6543| 890 Birch Rd|   Newcity|   WA|  23456|\n|         7|      David|   Jones|davidjones@email.com|555-2345|678 Maple Ave| Yourcity|   GA|  78901|            7|    2024-10-21|9999-12-31|       true|      David|   Jones|davidjones@email.com|555-2345|678 Maple Ave|  Yourcity|   GA|  78901|\n|         8|      Sarah|Anderson|sarahanderson@ema...|555-5432|  901 Pine St| Heretown|   OH|  56789|            8|    2024-10-21|9999-12-31|       true|      Sarah|Anderson|sarahanderson@ema...|555-5432|  901 Pine St|  Heretown|   OH|  56789|\n|         9|Christopher|  Taylor|christophertaylor...|555-8765|   234 Oak-Ln| Thistown|   PA|  12345|            9|    2024-10-21|9999-12-31|       true|Christopher|  Taylor|christophertaylor...|555-8765|   234 Oak-Ln|  Thistown|   PA|  12345|\n|        10|     Olivia|   Clark|oliviaclark@email...|555-3456|567-Cedar-Ave| Thatcity|   TN|  67890|           10|    2024-10-21|9999-12-31|       true|       null|    null|                null|    null|         null|      null| null|   null|\n|        11|       null|    null|                null|    null|         null|     null| null|   null|         null|          null|      null|       null|      Grace|  Turner|graceturner@email...|555-1122|   567 Oak St|  Cityview|   CA|  98765|\n|        12|       null|    null|                null|    null|         null|     null| null|   null|         null|          null|      null|       null|     Connor|   Evans|connorevans@email...|555-2233| 890 Pine Ave|Townsville|   TX|  54321|\n+----------+-----------+--------+--------------------+--------+-------------+---------+-----+-------+-------------+--------------+----------+-----------+-----------+--------+--------------------+--------+-------------+----------+-----+-------+\n\n"
     ]
    }
   ],
   "source": [
    "active_customers_target_df.join(customers_source_df, \"customerid\" , \"full_outer\").show()"
   ]
  },
  {
   "cell_type": "markdown",
   "metadata": {
    "application/vnd.databricks.v1+cell": {
     "cellMetadata": {
      "byteLimit": 2048000,
      "rowLimit": 10000
     },
     "inputWidgets": {},
     "nuid": "fb8d75b9-a5f1-4f0e-9881-bb2bc127e85f",
     "showTitle": false,
     "title": ""
    }
   },
   "source": [
    "renaming columns of target with suffix --> example: firstname_target \\\n",
    "renaming columns of source with suffix --> example: firstname_source\n"
   ]
  },
  {
   "cell_type": "code",
   "execution_count": 0,
   "metadata": {
    "application/vnd.databricks.v1+cell": {
     "cellMetadata": {
      "byteLimit": 2048000,
      "rowLimit": 10000
     },
     "inputWidgets": {},
     "nuid": "f3f92c63-e310-49c5-87b4-3c23e07e7c48",
     "showTitle": false,
     "title": ""
    }
   },
   "outputs": [],
   "source": [
    "def column_renamer(df, suffix, append):\n",
    "   \n",
    "    if append:\n",
    "        new_column_names = list(map(lambda x: x+suffix, df.columns)) #to add suffix to column names, if append=True\n",
    "        \n",
    "    else:\n",
    "        new_column_names = list(map(lambda x: x.replace(suffix,\"\"), df.columns)) #to remove suffix from column names, if append=False\n",
    "        \n",
    "    return df.toDF(*new_column_names)\n",
    "\n",
    "\n",
    "#hash function based on 6 columns that can change\n",
    "def get_hash(df, keys_list): \n",
    " \n",
    "    columns = [col(column) for column in keys_list]\n",
    "    \n",
    "    if columns:\n",
    "        return df.withColumn(\"hash_md5\", md5(concat_ws(\"\", *columns))) #returns another dataframe with one extra column \"hash_md5\"\n",
    "    else:\n",
    "        return df.withColumn(\"hash_md5\", md5(lit(1))) \n"
   ]
  },
  {
   "cell_type": "code",
   "execution_count": 0,
   "metadata": {
    "application/vnd.databricks.v1+cell": {
     "cellMetadata": {
      "byteLimit": 2048000,
      "rowLimit": 10000
     },
     "inputWidgets": {},
     "nuid": "9b293b88-dd76-459f-be86-42d9fb3d2652",
     "showTitle": false,
     "title": ""
    }
   },
   "outputs": [],
   "source": [
    "active_customers_target_df_hash = column_renamer(get_hash(active_customers_target_df, slowly_changing_cols), suffix=\"_target\", append=True)\n",
    "customers_source_df_hash = column_renamer(get_hash(customers_source_df, slowly_changing_cols), suffix=\"_source\", append=True)\n"
   ]
  },
  {
   "cell_type": "code",
   "execution_count": 0,
   "metadata": {
    "application/vnd.databricks.v1+cell": {
     "cellMetadata": {
      "byteLimit": 2048000,
      "rowLimit": 10000
     },
     "inputWidgets": {},
     "nuid": "83d6d69c-e30c-456a-8017-39c65b57530f",
     "showTitle": false,
     "title": ""
    }
   },
   "outputs": [
    {
     "output_type": "stream",
     "name": "stdout",
     "output_type": "stream",
     "text": [
      "+-----------------+----------------+---------------+---------------------------+------------+--------------+-----------+------------+--------------+--------------------+---------------------+---------------+------------------+--------------------------------+\n|customerid_target|firstname_target|lastname_target|email_target               |phone_target|address_target|city_target|state_target|zipcode_target|customer_skey_target|effective_date_target|end_date_target|active_flag_target|hash_md5_target                 |\n+-----------------+----------------+---------------+---------------------------+------------+--------------+-----------+------------+--------------+--------------------+---------------------+---------------+------------------+--------------------------------+\n|1                |John            |Doe            |johndoe@email.com          |555-1234    |123 Main St   |Anytown    |CA          |12345         |1                   |2024-10-21           |9999-12-31     |true              |31ddb0d8a5baa88cc8d741d24f7d94ef|\n|2                |Jane            |Smith          |janesmith@email.com        |555-5678    |456 Oak Ave   |Sometown   |NY          |67890         |2                   |2024-10-21           |9999-12-31     |true              |b1604de584bc896a63fc3e7241524792|\n|3                |Robert          |Johnson        |robertjohnson@email.com    |555-8765    |789 Pine Ln   |Othercity  |TX          |34567         |3                   |2024-10-21           |9999-12-31     |true              |42617f9cd36cd4217626fd21d26d0d97|\n|4                |Alice           |Williams       |alicewilliams@email.com    |555-4321    |234 Cedar Dr  |Yourtown   |FL          |89012         |4                   |2024-10-21           |9999-12-31     |true              |0ade7a14143c23d4ada08c733adb068b|\n|5                |Michael         |Brown          |michaelbrown@email.com     |555-9876    |567 Elm Blvd  |Theirtown  |IL          |45678         |5                   |2024-10-21           |9999-12-31     |true              |7f42a2317bdd347daff08c94f7792bc5|\n|6                |Emily           |Miller         |emilymiller@email.com      |555-6543    |890-Birch Rd  |Newcity    |WA          |23456         |6                   |2024-10-21           |9999-12-31     |true              |9007d576e660ffcd380bbd370ad38e0b|\n|7                |David           |Jones          |davidjones@email.com       |555-2345    |678 Maple Ave |Yourcity   |GA          |78901         |7                   |2024-10-21           |9999-12-31     |true              |dc8da3bef6a74b5427ae9f76020e29c7|\n|8                |Sarah           |Anderson       |sarahanderson@email.com    |555-5432    |901 Pine St   |Heretown   |OH          |56789         |8                   |2024-10-21           |9999-12-31     |true              |040a8daf34580442cb2cc20a61a4f580|\n|9                |Christopher     |Taylor         |christophertaylor@email.com|555-8765    |234 Oak-Ln    |Thistown   |PA          |12345         |9                   |2024-10-21           |9999-12-31     |true              |65b19e9862af201c12d29960056acc73|\n|10               |Olivia          |Clark          |oliviaclark@email.com      |555-3456    |567-Cedar-Ave |Thatcity   |TN          |67890         |10                  |2024-10-21           |9999-12-31     |true              |b17e5b021d933541e441df2e145bde79|\n+-----------------+----------------+---------------+---------------------------+------------+--------------+-----------+------------+--------------+--------------------+---------------------+---------------+------------------+--------------------------------+\n\n"
     ]
    }
   ],
   "source": [
    "active_customers_target_df_hash.show(truncate=False)"
   ]
  },
  {
   "cell_type": "code",
   "execution_count": 0,
   "metadata": {
    "application/vnd.databricks.v1+cell": {
     "cellMetadata": {
      "byteLimit": 2048000,
      "rowLimit": 10000
     },
     "inputWidgets": {},
     "nuid": "669d7300-05cd-448e-b12a-60ada6aebe44",
     "showTitle": false,
     "title": ""
    }
   },
   "outputs": [
    {
     "output_type": "stream",
     "name": "stdout",
     "output_type": "stream",
     "text": [
      "+-----------------+----------------+---------------+---------------------------+------------+--------------+-----------+------------+--------------+--------------------------------+\n|customerid_source|firstname_source|lastname_source|email_source               |phone_source|address_source|city_source|state_source|zipcode_source|hash_md5_source                 |\n+-----------------+----------------+---------------+---------------------------+------------+--------------+-----------+------------+--------------+--------------------------------+\n|1                |John            |Doe            |johndoe@gmail.com          |555-1234    |123 Main St   |Anytown    |CA          |12345         |8db85f2fdc7c5c1e4d3df64278be364e|\n|2                |Jane            |Smith          |janesmith@email.com        |555-5679    |456 Oak Ave   |Sometown   |NY          |67890         |4b77ad952717438becad8ab634f274b5|\n|3                |Robert          |Johnson        |robertjohnson@email.com    |555-8765    |123 Elm Ln    |Harborcity |FL          |87654         |e194f30cc658c18bf8e5308ef7a5c46e|\n|4                |Alice           |Williams       |alicewilliams@email.com    |555-4321    |234 Cedar Dr  |Yourtown   |FL          |89012         |0ade7a14143c23d4ada08c733adb068b|\n|5                |Michael         |Brown          |michaelbrown@email.com     |555-9876    |567 Elm Blvd  |Theirtown  |IL          |45678         |7f42a2317bdd347daff08c94f7792bc5|\n|6                |Emily           |Miller         |emilymiller@email.com      |555-6543    |890 Birch Rd  |Newcity    |WA          |23456         |feecf783e7bb0853208938f451d73185|\n|7                |David           |Jones          |davidjones@email.com       |555-2345    |678 Maple Ave |Yourcity   |GA          |78901         |dc8da3bef6a74b5427ae9f76020e29c7|\n|8                |Sarah           |Anderson       |sarahanderson@email.com    |555-5432    |901 Pine St   |Heretown   |OH          |56789         |040a8daf34580442cb2cc20a61a4f580|\n|9                |Christopher     |Taylor         |christophertaylor@email.com|555-8765    |234 Oak-Ln    |Thistown   |PA          |12345         |65b19e9862af201c12d29960056acc73|\n|11               |Grace           |Turner         |graceturner@email.com      |555-1122    |567 Oak St    |Cityview   |CA          |98765         |1660312ac56197c3c808fad436e6f72a|\n|12               |Connor          |Evans          |connorevans@email.com      |555-2233    |890 Pine Ave  |Townsville |TX          |54321         |27a598d862504d69d20800ff96445231|\n+-----------------+----------------+---------------+---------------------------+------------+--------------+-----------+------------+--------------+--------------------------------+\n\n"
     ]
    }
   ],
   "source": [
    "customers_source_df_hash.show(truncate=False)"
   ]
  },
  {
   "cell_type": "code",
   "execution_count": 0,
   "metadata": {
    "application/vnd.databricks.v1+cell": {
     "cellMetadata": {
      "byteLimit": 2048000,
      "rowLimit": 10000
     },
     "inputWidgets": {},
     "nuid": "dae6d44b-ad96-4ef6-9502-8c3e7a675cfb",
     "showTitle": false,
     "title": ""
    }
   },
   "outputs": [],
   "source": [
    "merged_df = active_customers_target_df_hash.join(customers_source_df_hash, col(\"customerid_source\") ==  col(\"customerid_target\") , \"full_outer\") \\\n",
    ".withColumn(\"Action\", when(col(\"hash_md5_source\") == col(\"hash_md5_target\")  , 'NOCHANGE')\\\n",
    ".when(col(\"customerid_source\").isNull(), 'DELETE')\\\n",
    ".when(col(\"customerid_target\").isNull(), 'INSERT')\\\n",
    ".otherwise('UPDATE'))"
   ]
  },
  {
   "cell_type": "code",
   "execution_count": 0,
   "metadata": {
    "application/vnd.databricks.v1+cell": {
     "cellMetadata": {
      "byteLimit": 2048000,
      "rowLimit": 10000
     },
     "inputWidgets": {},
     "nuid": "3ab333a0-6333-4b16-a613-397e4762c50a",
     "showTitle": false,
     "title": ""
    }
   },
   "outputs": [
    {
     "output_type": "stream",
     "name": "stdout",
     "output_type": "stream",
     "text": [
      "+-----------------+----------------+---------------+--------------------+------------+--------------+-----------+------------+--------------+--------------------+---------------------+---------------+------------------+--------------------+-----------------+----------------+---------------+--------------------+------------+--------------+-----------+------------+--------------+--------------------+--------+\n|customerid_target|firstname_target|lastname_target|        email_target|phone_target|address_target|city_target|state_target|zipcode_target|customer_skey_target|effective_date_target|end_date_target|active_flag_target|     hash_md5_target|customerid_source|firstname_source|lastname_source|        email_source|phone_source|address_source|city_source|state_source|zipcode_source|     hash_md5_source|  Action|\n+-----------------+----------------+---------------+--------------------+------------+--------------+-----------+------------+--------------+--------------------+---------------------+---------------+------------------+--------------------+-----------------+----------------+---------------+--------------------+------------+--------------+-----------+------------+--------------+--------------------+--------+\n|                1|            John|            Doe|   johndoe@email.com|    555-1234|   123 Main St|    Anytown|          CA|         12345|                   1|           2024-10-21|     9999-12-31|              true|31ddb0d8a5baa88cc...|                1|            John|            Doe|   johndoe@gmail.com|    555-1234|   123 Main St|    Anytown|          CA|         12345|8db85f2fdc7c5c1e4...|  UPDATE|\n|                2|            Jane|          Smith| janesmith@email.com|    555-5678|   456 Oak Ave|   Sometown|          NY|         67890|                   2|           2024-10-21|     9999-12-31|              true|b1604de584bc896a6...|                2|            Jane|          Smith| janesmith@email.com|    555-5679|   456 Oak Ave|   Sometown|          NY|         67890|4b77ad952717438be...|  UPDATE|\n|                3|          Robert|        Johnson|robertjohnson@ema...|    555-8765|   789 Pine Ln|  Othercity|          TX|         34567|                   3|           2024-10-21|     9999-12-31|              true|42617f9cd36cd4217...|                3|          Robert|        Johnson|robertjohnson@ema...|    555-8765|    123 Elm Ln| Harborcity|          FL|         87654|e194f30cc658c18bf...|  UPDATE|\n|                4|           Alice|       Williams|alicewilliams@ema...|    555-4321|  234 Cedar Dr|   Yourtown|          FL|         89012|                   4|           2024-10-21|     9999-12-31|              true|0ade7a14143c23d4a...|                4|           Alice|       Williams|alicewilliams@ema...|    555-4321|  234 Cedar Dr|   Yourtown|          FL|         89012|0ade7a14143c23d4a...|NOCHANGE|\n|                5|         Michael|          Brown|michaelbrown@emai...|    555-9876|  567 Elm Blvd|  Theirtown|          IL|         45678|                   5|           2024-10-21|     9999-12-31|              true|7f42a2317bdd347da...|                5|         Michael|          Brown|michaelbrown@emai...|    555-9876|  567 Elm Blvd|  Theirtown|          IL|         45678|7f42a2317bdd347da...|NOCHANGE|\n|                6|           Emily|         Miller|emilymiller@email...|    555-6543|  890-Birch Rd|    Newcity|          WA|         23456|                   6|           2024-10-21|     9999-12-31|              true|9007d576e660ffcd3...|                6|           Emily|         Miller|emilymiller@email...|    555-6543|  890 Birch Rd|    Newcity|          WA|         23456|feecf783e7bb08532...|  UPDATE|\n|                7|           David|          Jones|davidjones@email.com|    555-2345| 678 Maple Ave|   Yourcity|          GA|         78901|                   7|           2024-10-21|     9999-12-31|              true|dc8da3bef6a74b542...|                7|           David|          Jones|davidjones@email.com|    555-2345| 678 Maple Ave|   Yourcity|          GA|         78901|dc8da3bef6a74b542...|NOCHANGE|\n|                8|           Sarah|       Anderson|sarahanderson@ema...|    555-5432|   901 Pine St|   Heretown|          OH|         56789|                   8|           2024-10-21|     9999-12-31|              true|040a8daf34580442c...|                8|           Sarah|       Anderson|sarahanderson@ema...|    555-5432|   901 Pine St|   Heretown|          OH|         56789|040a8daf34580442c...|NOCHANGE|\n|                9|     Christopher|         Taylor|christophertaylor...|    555-8765|    234 Oak-Ln|   Thistown|          PA|         12345|                   9|           2024-10-21|     9999-12-31|              true|65b19e9862af201c1...|                9|     Christopher|         Taylor|christophertaylor...|    555-8765|    234 Oak-Ln|   Thistown|          PA|         12345|65b19e9862af201c1...|NOCHANGE|\n|               10|          Olivia|          Clark|oliviaclark@email...|    555-3456| 567-Cedar-Ave|   Thatcity|          TN|         67890|                  10|           2024-10-21|     9999-12-31|              true|b17e5b021d933541e...|             null|            null|           null|                null|        null|          null|       null|        null|          null|                null|  DELETE|\n|             null|            null|           null|                null|        null|          null|       null|        null|          null|                null|                 null|           null|              null|                null|               11|           Grace|         Turner|graceturner@email...|    555-1122|    567 Oak St|   Cityview|          CA|         98765|1660312ac56197c3c...|  INSERT|\n|             null|            null|           null|                null|        null|          null|       null|        null|          null|                null|                 null|           null|              null|                null|               12|          Connor|          Evans|connorevans@email...|    555-2233|  890 Pine Ave| Townsville|          TX|         54321|27a598d862504d69d...|  INSERT|\n+-----------------+----------------+---------------+--------------------+------------+--------------+-----------+------------+--------------+--------------------+---------------------+---------------+------------------+--------------------+-----------------+----------------+---------------+--------------------+------------+--------------+-----------+------------+--------------+--------------------+--------+\n\n"
     ]
    }
   ],
   "source": [
    "merged_df.show()"
   ]
  },
  {
   "cell_type": "code",
   "execution_count": 0,
   "metadata": {
    "application/vnd.databricks.v1+cell": {
     "cellMetadata": {
      "byteLimit": 2048000,
      "rowLimit": 10000
     },
     "inputWidgets": {},
     "nuid": "e9bf0f34-8b5d-498c-895d-63adb2eb3346",
     "showTitle": false,
     "title": ""
    }
   },
   "outputs": [],
   "source": [
    "unchanged_records = column_renamer(merged_df.filter(col(\"action\") == 'NOCHANGE'), suffix=\"_target\", append=False).select(active_customers_target_df.columns) #selecting columns from abov merged_df which are in target table."
   ]
  },
  {
   "cell_type": "code",
   "execution_count": 0,
   "metadata": {
    "application/vnd.databricks.v1+cell": {
     "cellMetadata": {
      "byteLimit": 2048000,
      "rowLimit": 10000
     },
     "inputWidgets": {},
     "nuid": "dbf741c4-ef40-4650-a0ce-41bc4a254b2c",
     "showTitle": false,
     "title": ""
    }
   },
   "outputs": [
    {
     "output_type": "stream",
     "name": "stdout",
     "output_type": "stream",
     "text": [
      "+----------+-----------+--------+--------------------+--------+-------------+---------+-----+-------+-------------+--------------+----------+-----------+\n|customerid|  firstname|lastname|               email|   phone|      address|     city|state|zipcode|customer_skey|effective_date|  end_date|active_flag|\n+----------+-----------+--------+--------------------+--------+-------------+---------+-----+-------+-------------+--------------+----------+-----------+\n|         4|      Alice|Williams|alicewilliams@ema...|555-4321| 234 Cedar Dr| Yourtown|   FL|  89012|            4|    2024-10-21|9999-12-31|       true|\n|         5|    Michael|   Brown|michaelbrown@emai...|555-9876| 567 Elm Blvd|Theirtown|   IL|  45678|            5|    2024-10-21|9999-12-31|       true|\n|         7|      David|   Jones|davidjones@email.com|555-2345|678 Maple Ave| Yourcity|   GA|  78901|            7|    2024-10-21|9999-12-31|       true|\n|         8|      Sarah|Anderson|sarahanderson@ema...|555-5432|  901 Pine St| Heretown|   OH|  56789|            8|    2024-10-21|9999-12-31|       true|\n|         9|Christopher|  Taylor|christophertaylor...|555-8765|   234 Oak-Ln| Thistown|   PA|  12345|            9|    2024-10-21|9999-12-31|       true|\n+----------+-----------+--------+--------------------+--------+-------------+---------+-----+-------+-------------+--------------+----------+-----------+\n\n"
     ]
    }
   ],
   "source": [
    "unchanged_records.show()"
   ]
  },
  {
   "cell_type": "code",
   "execution_count": 0,
   "metadata": {
    "application/vnd.databricks.v1+cell": {
     "cellMetadata": {
      "byteLimit": 2048000,
      "rowLimit": 10000
     },
     "inputWidgets": {},
     "nuid": "9e183120-4450-4c58-9565-ec5ee0c267b7",
     "showTitle": false,
     "title": ""
    }
   },
   "outputs": [
    {
     "output_type": "stream",
     "name": "stdout",
     "output_type": "stream",
     "text": [
      "+----------+---------+--------+--------------------+--------+------------+----------+-----+-------+-------------+--------------+----------+-----------+\n|customerid|firstname|lastname|               email|   phone|     address|      city|state|zipcode|customer_skey|effective_date|  end_date|active_flag|\n+----------+---------+--------+--------------------+--------+------------+----------+-----+-------+-------------+--------------+----------+-----------+\n|        11|    Grace|  Turner|graceturner@email...|555-1122|  567 Oak St|  Cityview|   CA|  98765|           11|    2024-10-21|9999-12-31|       true|\n|        12|   Connor|   Evans|connorevans@email...|555-2233|890 Pine Ave|Townsville|   TX|  54321|           12|    2024-10-21|9999-12-31|       true|\n+----------+---------+--------+--------------------+--------+------------+----------+-----+-------+-------------+--------------+----------+-----------+\n\n"
     ]
    }
   ],
   "source": [
    "insert_records = column_renamer(merged_df.filter(col(\"action\") == 'INSERT'), suffix=\"_source\", append=False) \\\n",
    "                .select(customers_source_df.columns) \\\n",
    "                .withColumn(\"row_number\",row_number().over(window_def)) \\\n",
    "                .withColumn(\"customer_skey\",col(\"row_number\")+ max_sk) \\\n",
    "                .withColumn(\"effective_date\",date_format(current_date(),DATE_FORMAT)) \\\n",
    "                .withColumn(\"end_date\",date_format(lit(future_date),DATE_FORMAT)) \\\n",
    "                .withColumn(\"active_flag\", lit(True)) \\\n",
    "                .drop(\"row_number\") #deleted as was for internal purpose\n",
    "\n",
    "insert_records.show()\n",
    "\n",
    "#.withColumn(\"customer_skey\",col(\"row_number\")+ max_sk)  -> max row_number would be our surrogate key\n",
    "#.drop(\"row_number\") -> deleted as was for internal purpose#"
   ]
  },
  {
   "cell_type": "code",
   "execution_count": 0,
   "metadata": {
    "application/vnd.databricks.v1+cell": {
     "cellMetadata": {
      "byteLimit": 2048000,
      "rowLimit": 10000
     },
     "inputWidgets": {},
     "nuid": "ef1848d3-dec0-412f-8513-2bf179c21ec5",
     "showTitle": false,
     "title": ""
    }
   },
   "outputs": [],
   "source": [
    "#recalculagte max surrogate key\n",
    "max_sk = insert_records.agg({\"customer_skey\": \"max\"}).collect()[0][0]"
   ]
  },
  {
   "cell_type": "code",
   "execution_count": 0,
   "metadata": {
    "application/vnd.databricks.v1+cell": {
     "cellMetadata": {
      "byteLimit": 2048000,
      "rowLimit": 10000
     },
     "inputWidgets": {},
     "nuid": "e31c5481-e6a5-4f91-91dc-fd6248927bc3",
     "showTitle": false,
     "title": ""
    }
   },
   "outputs": [
    {
     "output_type": "stream",
     "name": "stdout",
     "output_type": "stream",
     "text": [
      "12\n"
     ]
    }
   ],
   "source": [
    "print(max_sk)"
   ]
  },
  {
   "cell_type": "code",
   "execution_count": 0,
   "metadata": {
    "application/vnd.databricks.v1+cell": {
     "cellMetadata": {
      "byteLimit": 2048000,
      "rowLimit": 10000
     },
     "inputWidgets": {},
     "nuid": "fb5392c3-d5ef-4fe5-8c23-577069f2558f",
     "showTitle": false,
     "title": ""
    }
   },
   "outputs": [
    {
     "output_type": "stream",
     "name": "stdout",
     "output_type": "stream",
     "text": [
      "Out[44]: '\\nunionByName() method is used to combine two DataFrames while aligning their columns by name. This is particularly useful when the DataFrames have different column orders or when one DataFrame has additional columns that the other does not.\\n'"
     ]
    }
   ],
   "source": [
    "update_records = column_renamer(merged_df.filter(col(\"action\") == 'UPDATE'), suffix=\"_target\", append=False)\\\n",
    "                .select(active_customers_target_df.columns)\\\n",
    "                .withColumn(\"end_date\", date_format(current_date(),DATE_FORMAT))\\\n",
    "                .withColumn(\"active_flag\", lit(False))\\\n",
    "            .unionByName(\n",
    "            column_renamer(merged_df.filter(col(\"action\") == 'UPDATE'), suffix=\"_source\", append=False)\\\n",
    "                .select(customers_source_df.columns)\\\n",
    "                .withColumn(\"effective_date\",date_format(current_date(),DATE_FORMAT))\\\n",
    "                .withColumn(\"end_date\",date_format(lit(future_date),DATE_FORMAT))\\\n",
    "                .withColumn(\"row_number\",row_number().over(window_def))\\\n",
    "                .withColumn(\"customer_skey\",col(\"row_number\")+ max_sk)\\\n",
    "                .withColumn(\"active_flag\", lit(True))\\\n",
    "                .drop(\"row_number\")\n",
    "                )\n",
    "            \n",
    "#when insert:\n",
    "# end_date the previous record -> make end_date as current_date for previous record\n",
    "# insert a new record -> where start_date will be current date and  end_date will be future date\n",
    "\n",
    "#now as to insert new record - unionByName\n",
    "\"\"\"\n",
    "unionByName() method is used to combine two DataFrames while aligning their columns by name. This is particularly useful when the DataFrames have different column orders or when one DataFrame has additional columns that the other does not.\n",
    "\"\"\"\n",
    "\n"
   ]
  },
  {
   "cell_type": "code",
   "execution_count": 0,
   "metadata": {
    "application/vnd.databricks.v1+cell": {
     "cellMetadata": {
      "byteLimit": 2048000,
      "rowLimit": 10000
     },
     "inputWidgets": {},
     "nuid": "66179dd3-3832-46cb-8bb9-5a83e9cc5f2b",
     "showTitle": false,
     "title": ""
    }
   },
   "outputs": [
    {
     "output_type": "stream",
     "name": "stdout",
     "output_type": "stream",
     "text": [
      "+----------+---------+--------+--------------------+--------+------------+----------+-----+-------+-------------+--------------+----------+-----------+\n|customerid|firstname|lastname|               email|   phone|     address|      city|state|zipcode|customer_skey|effective_date|  end_date|active_flag|\n+----------+---------+--------+--------------------+--------+------------+----------+-----+-------+-------------+--------------+----------+-----------+\n|         1|     John|     Doe|   johndoe@email.com|555-1234| 123 Main St|   Anytown|   CA|  12345|            1|    2024-10-21|2024-10-21|      false|\n|         2|     Jane|   Smith| janesmith@email.com|555-5678| 456 Oak Ave|  Sometown|   NY|  67890|            2|    2024-10-21|2024-10-21|      false|\n|         3|   Robert| Johnson|robertjohnson@ema...|555-8765| 789 Pine Ln| Othercity|   TX|  34567|            3|    2024-10-21|2024-10-21|      false|\n|         6|    Emily|  Miller|emilymiller@email...|555-6543|890-Birch Rd|   Newcity|   WA|  23456|            6|    2024-10-21|2024-10-21|      false|\n|         1|     John|     Doe|   johndoe@gmail.com|555-1234| 123 Main St|   Anytown|   CA|  12345|           13|    2024-10-21|9999-12-31|       true|\n|         2|     Jane|   Smith| janesmith@email.com|555-5679| 456 Oak Ave|  Sometown|   NY|  67890|           14|    2024-10-21|9999-12-31|       true|\n|         3|   Robert| Johnson|robertjohnson@ema...|555-8765|  123 Elm Ln|Harborcity|   FL|  87654|           15|    2024-10-21|9999-12-31|       true|\n|         6|    Emily|  Miller|emilymiller@email...|555-6543|890 Birch Rd|   Newcity|   WA|  23456|           16|    2024-10-21|9999-12-31|       true|\n+----------+---------+--------+--------------------+--------+------------+----------+-----+-------+-------------+--------------+----------+-----------+\n\n"
     ]
    }
   ],
   "source": [
    "update_records.show()"
   ]
  },
  {
   "cell_type": "code",
   "execution_count": 0,
   "metadata": {
    "application/vnd.databricks.v1+cell": {
     "cellMetadata": {
      "byteLimit": 2048000,
      "rowLimit": 10000
     },
     "inputWidgets": {},
     "nuid": "27ddec6f-22a4-4830-bb30-3e323ee230a2",
     "showTitle": false,
     "title": ""
    }
   },
   "outputs": [],
   "source": [
    "max_sk = update_records.agg({\"customer_skey\": \"max\"}).collect()[0][0]"
   ]
  },
  {
   "cell_type": "code",
   "execution_count": 0,
   "metadata": {
    "application/vnd.databricks.v1+cell": {
     "cellMetadata": {
      "byteLimit": 2048000,
      "rowLimit": 10000
     },
     "inputWidgets": {},
     "nuid": "acb715f2-4340-46e9-b12c-950f112fb050",
     "showTitle": false,
     "title": ""
    }
   },
   "outputs": [
    {
     "output_type": "stream",
     "name": "stdout",
     "output_type": "stream",
     "text": [
      "16\n"
     ]
    }
   ],
   "source": [
    "print(max_sk)"
   ]
  },
  {
   "cell_type": "code",
   "execution_count": 0,
   "metadata": {
    "application/vnd.databricks.v1+cell": {
     "cellMetadata": {
      "byteLimit": 2048000,
      "rowLimit": 10000
     },
     "inputWidgets": {},
     "nuid": "4c020f7c-519f-4aa0-b167-ea3dabc0e3ef",
     "showTitle": false,
     "title": ""
    }
   },
   "outputs": [
    {
     "output_type": "stream",
     "name": "stdout",
     "output_type": "stream",
     "text": [
      "+----------+---------+--------+--------------------+--------+-------------+--------+-----+-------+-------------+--------------+----------+-----------+\n|customerid|firstname|lastname|               email|   phone|      address|    city|state|zipcode|customer_skey|effective_date|  end_date|active_flag|\n+----------+---------+--------+--------------------+--------+-------------+--------+-----+-------+-------------+--------------+----------+-----------+\n|        10|   Olivia|   Clark|oliviaclark@email...|555-3456|567-Cedar-Ave|Thatcity|   TN|  67890|           10|    2024-10-21|2024-10-21|      false|\n+----------+---------+--------+--------------------+--------+-------------+--------+-----+-------+-------------+--------------+----------+-----------+\n\n"
     ]
    }
   ],
   "source": [
    "delete_records = column_renamer(merged_df.filter(col(\"action\") == 'DELETE'), suffix=\"_target\", append=False)\\\n",
    "                .select(active_customers_target_df.columns)\\\n",
    "                .withColumn(\"end_date\", date_format(current_date(),DATE_FORMAT))\\\n",
    "                .withColumn(\"active_flag\", lit(False))\n",
    "\n",
    "delete_records.show()"
   ]
  },
  {
   "cell_type": "code",
   "execution_count": 0,
   "metadata": {
    "application/vnd.databricks.v1+cell": {
     "cellMetadata": {
      "byteLimit": 2048000,
      "rowLimit": 10000
     },
     "inputWidgets": {},
     "nuid": "1ded7471-9d63-4b58-b675-5f28e058a64a",
     "showTitle": false,
     "title": ""
    }
   },
   "outputs": [
    {
     "output_type": "stream",
     "name": "stdout",
     "output_type": "stream",
     "text": [
      "+----------+-----------+--------+--------------------+--------+-------------+----------+-----+-------+-------------+--------------+----------+-----------+\n|customerid|  firstname|lastname|               email|   phone|      address|      city|state|zipcode|customer_skey|effective_date|  end_date|active_flag|\n+----------+-----------+--------+--------------------+--------+-------------+----------+-----+-------+-------------+--------------+----------+-----------+\n|         4|      Alice|Williams|alicewilliams@ema...|555-4321| 234 Cedar Dr|  Yourtown|   FL|  89012|            4|    2024-10-21|9999-12-31|       true|\n|         5|    Michael|   Brown|michaelbrown@emai...|555-9876| 567 Elm Blvd| Theirtown|   IL|  45678|            5|    2024-10-21|9999-12-31|       true|\n|         7|      David|   Jones|davidjones@email.com|555-2345|678 Maple Ave|  Yourcity|   GA|  78901|            7|    2024-10-21|9999-12-31|       true|\n|         8|      Sarah|Anderson|sarahanderson@ema...|555-5432|  901 Pine St|  Heretown|   OH|  56789|            8|    2024-10-21|9999-12-31|       true|\n|         9|Christopher|  Taylor|christophertaylor...|555-8765|   234 Oak-Ln|  Thistown|   PA|  12345|            9|    2024-10-21|9999-12-31|       true|\n|        11|      Grace|  Turner|graceturner@email...|555-1122|   567 Oak St|  Cityview|   CA|  98765|           11|    2024-10-21|9999-12-31|       true|\n|        12|     Connor|   Evans|connorevans@email...|555-2233| 890 Pine Ave|Townsville|   TX|  54321|           12|    2024-10-21|9999-12-31|       true|\n|         1|       John|     Doe|   johndoe@email.com|555-1234|  123 Main St|   Anytown|   CA|  12345|            1|    2024-10-21|2024-10-21|      false|\n|         2|       Jane|   Smith| janesmith@email.com|555-5678|  456 Oak Ave|  Sometown|   NY|  67890|            2|    2024-10-21|2024-10-21|      false|\n|         3|     Robert| Johnson|robertjohnson@ema...|555-8765|  789 Pine Ln| Othercity|   TX|  34567|            3|    2024-10-21|2024-10-21|      false|\n|         6|      Emily|  Miller|emilymiller@email...|555-6543| 890-Birch Rd|   Newcity|   WA|  23456|            6|    2024-10-21|2024-10-21|      false|\n|         1|       John|     Doe|   johndoe@gmail.com|555-1234|  123 Main St|   Anytown|   CA|  12345|           13|    2024-10-21|9999-12-31|       true|\n|         2|       Jane|   Smith| janesmith@email.com|555-5679|  456 Oak Ave|  Sometown|   NY|  67890|           14|    2024-10-21|9999-12-31|       true|\n|         3|     Robert| Johnson|robertjohnson@ema...|555-8765|   123 Elm Ln|Harborcity|   FL|  87654|           15|    2024-10-21|9999-12-31|       true|\n|         6|      Emily|  Miller|emilymiller@email...|555-6543| 890 Birch Rd|   Newcity|   WA|  23456|           16|    2024-10-21|9999-12-31|       true|\n|        10|     Olivia|   Clark|oliviaclark@email...|555-3456|567-Cedar-Ave|  Thatcity|   TN|  67890|           10|    2024-10-21|2024-10-21|      false|\n+----------+-----------+--------+--------------------+--------+-------------+----------+-----+-------+-------------+--------------+----------+-----------+\n\n"
     ]
    }
   ],
   "source": [
    "resultant_df = inactive_customers_target_df \\\n",
    "            .unionByName(unchanged_records)\\\n",
    "            .unionByName(insert_records)\\\n",
    "            .unionByName(update_records)\\\n",
    "            .unionByName(delete_records)\n",
    "\n",
    "resultant_df.show()\n",
    "\n",
    "#keeping all inactive_customers_target and those 4 things we calculated (unchanged_records,insert_records,update_records,delete_records)"
   ]
  },
  {
   "cell_type": "code",
   "execution_count": 0,
   "metadata": {
    "application/vnd.databricks.v1+cell": {
     "cellMetadata": {
      "byteLimit": 2048000,
      "rowLimit": 10000
     },
     "inputWidgets": {},
     "nuid": "79fc202a-233d-489c-bba4-e12610773a0d",
     "showTitle": false,
     "title": ""
    }
   },
   "outputs": [],
   "source": []
  }
 ],
 "metadata": {
  "application/vnd.databricks.v1+notebook": {
   "dashboards": [],
   "environmentMetadata": null,
   "language": "python",
   "notebookMetadata": {
    "pythonIndentUnit": 4
   },
   "notebookName": "SCD-Type2_Implementation",
   "widgets": {}
  },
  "kernelspec": {
   "display_name": "Pyspark 3",
   "language": "python",
   "name": "pyspark3"
  },
  "language_info": {
   "codemirror_mode": {
    "name": "ipython",
    "version": 3
   },
   "file_extension": ".py",
   "mimetype": "text/x-python",
   "name": "python",
   "nbconvert_exporter": "python",
   "pygments_lexer": "ipython3",
   "version": "3.6.12"
  }
 },
 "nbformat": 4,
 "nbformat_minor": 0
}
